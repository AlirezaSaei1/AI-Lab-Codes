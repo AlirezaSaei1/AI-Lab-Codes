{
 "cells": [
  {
   "cell_type": "markdown",
   "metadata": {},
   "source": [
    "## Deep Learning with Pytorch\n",
    "Why not numpy? \n",
    "- Torch handles CUDA so you can use GPU, but numpy does not use GPU\n",
    "- No need for back propagaion with pytorch, back propagaion with numpy can be challenging (in Transformers, etc.)\n",
    "\n",
    "Back propagation is the learning algorithm for a NN -> uses gradient descent (Optimization)\n",
    "\n",
    "Chain Rule: Reaching from Output to Model Parameters"
   ]
  },
  {
   "cell_type": "markdown",
   "metadata": {},
   "source": [
    "### Required Libraries"
   ]
  },
  {
   "cell_type": "code",
   "execution_count": 1,
   "metadata": {},
   "outputs": [],
   "source": [
    "import os\n",
    "import torch\n",
    "from torchvision import transforms\n",
    "from torch.utils.data import DataLoader\n",
    "import torch.nn as nn\n",
    "import torch.nn.functional as F\n",
    "import torch.optim as optim\n",
    "from PIL import Image\n",
    "from torch.utils.data import Dataset\n",
    "import matplotlib.pyplot as plt\n",
    "from sklearn.metrics import f1_score"
   ]
  },
  {
   "cell_type": "markdown",
   "metadata": {},
   "source": [
    "### Import Dataset\n",
    "\n",
    "Datasets in Pytorch are:\n",
    " 1. Iterable Style -> for data streaming\n",
    " 2. Map Style -> it is not for streaming\n",
    "\n",
    "Tensor: Arrays that can have higher dimensions"
   ]
  },
  {
   "cell_type": "markdown",
   "metadata": {},
   "source": [
    "### Custom Dataset"
   ]
  },
  {
   "cell_type": "code",
   "execution_count": 2,
   "metadata": {},
   "outputs": [],
   "source": [
    "class CustomDataset(Dataset):\n",
    "    def __init__(self, root_dir, transform=None, train=True):\n",
    "        self.root_dir = root_dir\n",
    "        self.transform = transform\n",
    "        self.train = train\n",
    "        if self.train:\n",
    "            self.data_dir = os.path.join(self.root_dir, 'train')\n",
    "        else:\n",
    "            self.data_dir = os.path.join(self.root_dir, 'test')\n",
    "        self.images = self._load_images()\n",
    "        self.classes = self._get_classes()\n",
    "\n",
    "    def _load_images(self):\n",
    "        images = []\n",
    "        for img_name in os.listdir(self.data_dir):\n",
    "            img_path = os.path.join(self.data_dir, img_name)\n",
    "            label = img_name.split('_')[-1][0]\n",
    "            images.append((img_path, label))\n",
    "        return images\n",
    "\n",
    "    def _get_classes(self):\n",
    "        classes = set()\n",
    "        for _, label in self.images:\n",
    "            classes.add(label)\n",
    "        return sorted(classes)\n",
    "\n",
    "    def __len__(self):\n",
    "        return len(self.images)\n",
    "\n",
    "    def __getitem__(self, idx):\n",
    "        img_path, label = self.images[idx]\n",
    "        image = Image.open(img_path)\n",
    "        if self.transform:\n",
    "            image = self.transform(image)\n",
    "        label = torch.tensor(int(label))    \n",
    "        return image, label\n"
   ]
  },
  {
   "cell_type": "code",
   "execution_count": 3,
   "metadata": {},
   "outputs": [
    {
     "name": "stdout",
     "output_type": "stream",
     "text": [
      "torch.Size([1, 128, 128])\n",
      "Number of classes: 6\n"
     ]
    }
   ],
   "source": [
    "train_dataset = CustomDataset(root_dir='Dataset', transform=transforms.ToTensor(), train=True)\n",
    "test_dataset = CustomDataset(root_dir='Dataset', transform=transforms.ToTensor(), train=False)\n",
    "\n",
    "sample_image = train_dataset[0][0]\n",
    "print(sample_image.shape)\n",
    "\n",
    "num_classes = len(train_dataset.classes)\n",
    "print(\"Number of classes:\", num_classes)"
   ]
  },
  {
   "cell_type": "markdown",
   "metadata": {},
   "source": [
    "### Model"
   ]
  },
  {
   "cell_type": "code",
   "execution_count": 4,
   "metadata": {},
   "outputs": [],
   "source": [
    "class Flatten(nn.Module):\n",
    "    def forward(self, input):\n",
    "        return input.view(input.size(0), -1)\n",
    "\n",
    "class NeuralNet(nn.Module):\n",
    "    def __init__(self, input_size, hidden_size, num_classes):\n",
    "        super(NeuralNet, self).__init__()\n",
    "        self.flatten = Flatten()\n",
    "        self.fc1 = nn.Linear(input_size, hidden_size)\n",
    "        self.fc2 = nn.Linear(hidden_size, num_classes)\n",
    "        self.dropout = nn.Dropout(0.5)\n",
    "\n",
    "    def forward(self, x):\n",
    "        x = self.flatten(x)\n",
    "        x = F.relu(self.fc1(x))\n",
    "        x = self.dropout(x)\n",
    "        x = self.fc2(x)\n",
    "        return x"
   ]
  },
  {
   "cell_type": "markdown",
   "metadata": {},
   "source": [
    "### Model with Separated Paths"
   ]
  },
  {
   "cell_type": "code",
   "execution_count": 5,
   "metadata": {},
   "outputs": [],
   "source": [
    "class NeuralNetSeparatedPaths(nn.Module):\n",
    "    def __init__(self, input_size, hidden_size, num_classes):\n",
    "        super(NeuralNetSeparatedPaths, self).__init__()\n",
    "        self.flatten = Flatten()\n",
    "        self.fc1_a = nn.Linear(input_size, hidden_size)\n",
    "        self.fc1_b = nn.Linear(input_size, hidden_size)\n",
    "        self.fc2_a = nn.Linear(hidden_size, num_classes)\n",
    "        self.fc2_b = nn.Linear(hidden_size, num_classes)\n",
    "        self.dropout = nn.Dropout(0.5)\n",
    "\n",
    "    def forward(self, x):\n",
    "        x = self.flatten(x)\n",
    "        \n",
    "        x_a = F.relu(self.fc1_a(x))\n",
    "        x_a = self.dropout(x_a)\n",
    "        x_a = self.fc2_a(x_a)\n",
    "        \n",
    "        x_b = F.relu(self.fc1_b(x))\n",
    "        x_b = self.dropout(x_b)\n",
    "        x_b = self.fc2_b(x_b)\n",
    "        \n",
    "        x_concat = torch.cat((x_a, x_b), dim=1)\n",
    "        \n",
    "        return x_concat\n"
   ]
  },
  {
   "cell_type": "markdown",
   "metadata": {},
   "source": [
    "### Training Loop"
   ]
  },
  {
   "cell_type": "code",
   "execution_count": 6,
   "metadata": {},
   "outputs": [],
   "source": [
    "def train(model, train_loader, criterion, optimizer, num_epochs=5):\n",
    "    model.train()\n",
    "    train_losses = []\n",
    "    for epoch in range(num_epochs):\n",
    "        running_loss = 0.0\n",
    "        for i, (inputs, labels) in enumerate(train_loader):\n",
    "            optimizer.zero_grad()\n",
    "            outputs = model(inputs)\n",
    "            loss = criterion(outputs, labels)\n",
    "            loss.backward()\n",
    "            optimizer.step()\n",
    "            running_loss += loss.item() * inputs.size(0)\n",
    "        \n",
    "        epoch_loss = running_loss / len(train_loader.dataset)\n",
    "        train_losses.append(epoch_loss)\n",
    "        print(f\"Epoch {epoch+1}/{num_epochs}, Loss: {epoch_loss:.4f}\")\n",
    "    \n",
    "\n",
    "    plt.plot(train_losses)\n",
    "    plt.xlabel('Epoch')\n",
    "    plt.ylabel('Training Loss')\n",
    "    plt.title('Training Loss vs. Epoch')\n",
    "    plt.show()\n"
   ]
  },
  {
   "cell_type": "markdown",
   "metadata": {},
   "source": [
    "### Testing Loop"
   ]
  },
  {
   "cell_type": "code",
   "execution_count": 7,
   "metadata": {},
   "outputs": [],
   "source": [
    "def test(model, test_loader, criterion):\n",
    "    model.eval()\n",
    "    correct = 0\n",
    "    total = 0\n",
    "    test_loss = 0.0\n",
    "    all_predicted = []\n",
    "    all_labels = []\n",
    "    with torch.no_grad():\n",
    "        for inputs, labels in test_loader:\n",
    "            outputs = model(inputs)\n",
    "            loss = criterion(outputs, labels)\n",
    "            test_loss += loss.item() * inputs.size(0)\n",
    "            _, predicted = torch.max(outputs, 1)\n",
    "            correct += (predicted == labels).sum().item()\n",
    "            total += labels.size(0)\n",
    "            all_predicted.extend(predicted.tolist())\n",
    "            all_labels.extend(labels.tolist())\n",
    "    \n",
    "    test_accuracy = correct / total\n",
    "    avg_test_loss = test_loss / len(test_loader.dataset)\n",
    "    print(f\"Test Accuracy: {test_accuracy:.2%}, Avg Test Loss: {avg_test_loss:.4f}\")\n",
    "    \n",
    "    f1 = f1_score(all_labels, all_predicted, average='macro')\n",
    "    print(f\"F1 Score: {f1:.4f}\")\n"
   ]
  },
  {
   "cell_type": "code",
   "execution_count": 8,
   "metadata": {},
   "outputs": [
    {
     "name": "stdout",
     "output_type": "stream",
     "text": [
      "NeuralNetSeparatedPaths(\n",
      "  (flatten): Flatten()\n",
      "  (fc1_a): Linear(in_features=16384, out_features=256, bias=True)\n",
      "  (fc1_b): Linear(in_features=16384, out_features=256, bias=True)\n",
      "  (fc2_a): Linear(in_features=256, out_features=6, bias=True)\n",
      "  (fc2_b): Linear(in_features=256, out_features=6, bias=True)\n",
      "  (dropout): Dropout(p=0.5, inplace=False)\n",
      ")\n"
     ]
    }
   ],
   "source": [
    "model = NeuralNetSeparatedPaths(input_size=128*128, hidden_size=256, num_classes=num_classes)\n",
    "criterion = nn.CrossEntropyLoss()\n",
    "optimizer = optim.Adam(model.parameters(), lr=0.001)\n",
    "print(model)"
   ]
  },
  {
   "cell_type": "markdown",
   "metadata": {},
   "source": [
    "### Train Model"
   ]
  },
  {
   "cell_type": "code",
   "execution_count": 9,
   "metadata": {},
   "outputs": [
    {
     "name": "stdout",
     "output_type": "stream",
     "text": [
      "Epoch 1/5, Loss: 1.1694\n",
      "Epoch 2/5, Loss: 0.2962\n",
      "Epoch 3/5, Loss: 0.1649\n",
      "Epoch 4/5, Loss: 0.1136\n",
      "Epoch 5/5, Loss: 0.0807\n"
     ]
    },
    {
     "data": {
      "image/png": "[encoded data removed]",
      "text/plain": [
       "<Figure size 640x480 with 1 Axes>"
      ]
     },
     "metadata": {},
     "output_type": "display_data"
    }
   ],
   "source": [
    "num_epochs = 5\n",
    "\n",
    "train_loader = DataLoader(train_dataset, batch_size=256, shuffle=True)\n",
    "test_loader = DataLoader(test_dataset, batch_size=64, shuffle=False)\n",
    "\n",
    "train(model, train_loader, criterion, optimizer, num_epochs)"
   ]
  },
  {
   "cell_type": "markdown",
   "metadata": {},
   "source": [
    "### Test Model"
   ]
  },
  {
   "cell_type": "code",
   "execution_count": 10,
   "metadata": {},
   "outputs": [
    {
     "name": "stdout",
     "output_type": "stream",
     "text": [
      "Test Accuracy: 99.17%, Avg Test Loss: 0.0324\n",
      "F1 Score: 0.9917\n"
     ]
    }
   ],
   "source": [
    "test(model, test_loader, criterion)"
   ]
  },
  {
   "cell_type": "markdown",
   "metadata": {},
   "source": [
    "### Model Weights"
   ]
  },
  {
   "cell_type": "code",
   "execution_count": 11,
   "metadata": {},
   "outputs": [
    {
     "name": "stdout",
     "output_type": "stream",
     "text": [
      "Parameter name: fc1_a.weight, Shape: torch.Size([256, 16384])\n",
      "Parameter name: fc1_a.bias, Shape: torch.Size([256])\n",
      "Parameter name: fc1_b.weight, Shape: torch.Size([256, 16384])\n",
      "Parameter name: fc1_b.bias, Shape: torch.Size([256])\n",
      "Parameter name: fc2_a.weight, Shape: torch.Size([6, 256])\n",
      "Parameter name: fc2_a.bias, Shape: torch.Size([6])\n",
      "Parameter name: fc2_b.weight, Shape: torch.Size([6, 256])\n",
      "Parameter name: fc2_b.bias, Shape: torch.Size([6])\n"
     ]
    }
   ],
   "source": [
    "def print_model_parameters(model):\n",
    "    for name, param in model.named_parameters():\n",
    "        print(f\"Parameter name: {name}, Shape: {param.shape}\")\n",
    "\n",
    "print_model_parameters(model)"
   ]
  },
  {
   "cell_type": "markdown",
   "metadata": {},
   "source": [
    "Link: https://pytorch.org/tutorials/beginner/basics/"
   ]
  }
 ],
 "metadata": {
  "kernelspec": {
   "display_name": "Python 3",
   "language": "python",
   "name": "python3"
  },
  "language_info": {
   "codemirror_mode": {
    "name": "ipython",
    "version": 3
   },
   "file_extension": ".py",
   "mimetype": "text/x-python",
   "name": "python",
   "nbconvert_exporter": "python",
   "pygments_lexer": "ipython3",
   "version": "3.10.0"
  }
 },
 "nbformat": 4,
 "nbformat_minor": 2
}
