{
 "cells": [
  {
   "cell_type": "markdown",
   "metadata": {},
   "source": [
    "# Classification Methods:\n",
    "- SVM\n",
    "- KNN\n",
    "- Losgistic\n",
    "- DT -> RF\n",
    "- NB\n",
    "- NN"
   ]
  },
  {
   "cell_type": "markdown",
   "metadata": {},
   "source": [
    "Pre-processing:\n",
    "1. Data Cleaning\n",
    "2. Data Integration\n",
    "3. Data Transformation"
   ]
  },
  {
   "cell_type": "markdown",
   "metadata": {},
   "source": [
    "## Libraries"
   ]
  },
  {
   "cell_type": "code",
   "execution_count": 88,
   "metadata": {},
   "outputs": [],
   "source": [
    "import pandas as pd\n",
    "import time\n",
    "import matplotlib.pyplot as plt\n",
    "from sklearn.model_selection import train_test_split\n",
    "from sklearn.svm import SVC\n",
    "from sklearn.neighbors import KNeighborsClassifier\n",
    "from sklearn.ensemble import RandomForestClassifier\n",
    "from sklearn.naive_bayes import GaussianNB\n",
    "from sklearn.metrics import accuracy_score"
   ]
  },
  {
   "cell_type": "markdown",
   "metadata": {},
   "source": [
    "## Data Preparation"
   ]
  },
  {
   "cell_type": "code",
   "execution_count": 89,
   "metadata": {},
   "outputs": [
    {
     "data": {
      "text/html": [
       "<div>\n",
       "<style scoped>\n",
       "    .dataframe tbody tr th:only-of-type {\n",
       "        vertical-align: middle;\n",
       "    }\n",
       "\n",
       "    .dataframe tbody tr th {\n",
       "        vertical-align: top;\n",
       "    }\n",
       "\n",
       "    .dataframe thead th {\n",
       "        text-align: right;\n",
       "    }\n",
       "</style>\n",
       "<table border=\"1\" class=\"dataframe\">\n",
       "  <thead>\n",
       "    <tr style=\"text-align: right;\">\n",
       "      <th></th>\n",
       "      <th>species</th>\n",
       "      <th>island</th>\n",
       "      <th>culmen_length_mm</th>\n",
       "      <th>culmen_depth_mm</th>\n",
       "      <th>flipper_length_mm</th>\n",
       "      <th>body_mass_g</th>\n",
       "      <th>sex</th>\n",
       "    </tr>\n",
       "  </thead>\n",
       "  <tbody>\n",
       "    <tr>\n",
       "      <th>0</th>\n",
       "      <td>Adelie</td>\n",
       "      <td>Torgersen</td>\n",
       "      <td>39.1</td>\n",
       "      <td>18.7</td>\n",
       "      <td>181.0</td>\n",
       "      <td>3750.0</td>\n",
       "      <td>MALE</td>\n",
       "    </tr>\n",
       "    <tr>\n",
       "      <th>1</th>\n",
       "      <td>Adelie</td>\n",
       "      <td>Torgersen</td>\n",
       "      <td>39.5</td>\n",
       "      <td>17.4</td>\n",
       "      <td>186.0</td>\n",
       "      <td>3800.0</td>\n",
       "      <td>FEMALE</td>\n",
       "    </tr>\n",
       "    <tr>\n",
       "      <th>2</th>\n",
       "      <td>Adelie</td>\n",
       "      <td>Torgersen</td>\n",
       "      <td>40.3</td>\n",
       "      <td>18.0</td>\n",
       "      <td>195.0</td>\n",
       "      <td>3250.0</td>\n",
       "      <td>FEMALE</td>\n",
       "    </tr>\n",
       "    <tr>\n",
       "      <th>3</th>\n",
       "      <td>Adelie</td>\n",
       "      <td>Torgersen</td>\n",
       "      <td>NaN</td>\n",
       "      <td>NaN</td>\n",
       "      <td>NaN</td>\n",
       "      <td>NaN</td>\n",
       "      <td>NaN</td>\n",
       "    </tr>\n",
       "    <tr>\n",
       "      <th>4</th>\n",
       "      <td>Adelie</td>\n",
       "      <td>Torgersen</td>\n",
       "      <td>36.7</td>\n",
       "      <td>19.3</td>\n",
       "      <td>193.0</td>\n",
       "      <td>3450.0</td>\n",
       "      <td>FEMALE</td>\n",
       "    </tr>\n",
       "  </tbody>\n",
       "</table>\n",
       "</div>"
      ],
      "text/plain": [
       "  species     island  culmen_length_mm  culmen_depth_mm  flipper_length_mm  \\\n",
       "0  Adelie  Torgersen              39.1             18.7              181.0   \n",
       "1  Adelie  Torgersen              39.5             17.4              186.0   \n",
       "2  Adelie  Torgersen              40.3             18.0              195.0   \n",
       "3  Adelie  Torgersen               NaN              NaN                NaN   \n",
       "4  Adelie  Torgersen              36.7             19.3              193.0   \n",
       "\n",
       "   body_mass_g     sex  \n",
       "0       3750.0    MALE  \n",
       "1       3800.0  FEMALE  \n",
       "2       3250.0  FEMALE  \n",
       "3          NaN     NaN  \n",
       "4       3450.0  FEMALE  "
      ]
     },
     "execution_count": 89,
     "metadata": {},
     "output_type": "execute_result"
    }
   ],
   "source": [
    "penguins_data = pd.read_csv('penguins_size.csv')\n",
    "penguins_data.head()"
   ]
  },
  {
   "cell_type": "code",
   "execution_count": 90,
   "metadata": {},
   "outputs": [],
   "source": [
    "numerical_columns = ['culmen_length_mm', 'culmen_depth_mm', 'flipper_length_mm', 'body_mass_g']\n",
    "penguins_data[numerical_columns] = penguins_data[numerical_columns].fillna(penguins_data[numerical_columns].mean())\n",
    "\n",
    "penguins_data.dropna(inplace=True)\n",
    "\n",
    "columns_to_normalize = ['culmen_length_mm', 'culmen_depth_mm', 'flipper_length_mm', 'body_mass_g']\n",
    "\n",
    "from sklearn.preprocessing import MinMaxScaler, StandardScaler\n",
    "# scaler = MinMaxScaler()\n",
    "scaler = StandardScaler()\n",
    "penguins_data[columns_to_normalize] = scaler.fit_transform(penguins_data[columns_to_normalize])\n",
    "\n",
    "penguins_data = pd.get_dummies(penguins_data, columns=['species', 'island'])\n",
    "\n",
    "penguins_data['sex'] = penguins_data['sex'].map({'MALE': 0, 'FEMALE': 1}).fillna(0)\n",
    "\n",
    "X = penguins_data.drop(columns=['sex'])\n",
    "Y = penguins_data['sex']"
   ]
  },
  {
   "cell_type": "code",
   "execution_count": 91,
   "metadata": {},
   "outputs": [],
   "source": [
    "X_train, X_test, y_train, y_test = train_test_split(X, Y, test_size=0.2, random_state=42)"
   ]
  },
  {
   "cell_type": "code",
   "execution_count": 92,
   "metadata": {},
   "outputs": [
    {
     "name": "stdout",
     "output_type": "stream",
     "text": [
      "267 267\n",
      "67 67\n"
     ]
    },
    {
     "data": {
      "text/html": [
       "<div>\n",
       "<style scoped>\n",
       "    .dataframe tbody tr th:only-of-type {\n",
       "        vertical-align: middle;\n",
       "    }\n",
       "\n",
       "    .dataframe tbody tr th {\n",
       "        vertical-align: top;\n",
       "    }\n",
       "\n",
       "    .dataframe thead th {\n",
       "        text-align: right;\n",
       "    }\n",
       "</style>\n",
       "<table border=\"1\" class=\"dataframe\">\n",
       "  <thead>\n",
       "    <tr style=\"text-align: right;\">\n",
       "      <th></th>\n",
       "      <th>culmen_length_mm</th>\n",
       "      <th>culmen_depth_mm</th>\n",
       "      <th>flipper_length_mm</th>\n",
       "      <th>body_mass_g</th>\n",
       "      <th>species_Adelie</th>\n",
       "      <th>species_Chinstrap</th>\n",
       "      <th>species_Gentoo</th>\n",
       "      <th>island_Biscoe</th>\n",
       "      <th>island_Dream</th>\n",
       "      <th>island_Torgersen</th>\n",
       "    </tr>\n",
       "  </thead>\n",
       "  <tbody>\n",
       "    <tr>\n",
       "      <th>230</th>\n",
       "      <td>-0.567520</td>\n",
       "      <td>-1.761093</td>\n",
       "      <td>0.927425</td>\n",
       "      <td>0.548689</td>\n",
       "      <td>0</td>\n",
       "      <td>0</td>\n",
       "      <td>1</td>\n",
       "      <td>1</td>\n",
       "      <td>0</td>\n",
       "      <td>0</td>\n",
       "    </tr>\n",
       "    <tr>\n",
       "      <th>84</th>\n",
       "      <td>-1.227787</td>\n",
       "      <td>0.325462</td>\n",
       "      <td>-0.715295</td>\n",
       "      <td>-1.068970</td>\n",
       "      <td>1</td>\n",
       "      <td>0</td>\n",
       "      <td>0</td>\n",
       "      <td>0</td>\n",
       "      <td>1</td>\n",
       "      <td>0</td>\n",
       "    </tr>\n",
       "    <tr>\n",
       "      <th>303</th>\n",
       "      <td>1.101488</td>\n",
       "      <td>-0.641478</td>\n",
       "      <td>1.641651</td>\n",
       "      <td>1.419736</td>\n",
       "      <td>0</td>\n",
       "      <td>0</td>\n",
       "      <td>1</td>\n",
       "      <td>1</td>\n",
       "      <td>0</td>\n",
       "      <td>0</td>\n",
       "    </tr>\n",
       "    <tr>\n",
       "      <th>22</th>\n",
       "      <td>-1.484557</td>\n",
       "      <td>1.037945</td>\n",
       "      <td>-0.858141</td>\n",
       "      <td>-0.509011</td>\n",
       "      <td>1</td>\n",
       "      <td>0</td>\n",
       "      <td>0</td>\n",
       "      <td>1</td>\n",
       "      <td>0</td>\n",
       "      <td>0</td>\n",
       "    </tr>\n",
       "    <tr>\n",
       "      <th>29</th>\n",
       "      <td>-0.640883</td>\n",
       "      <td>0.885270</td>\n",
       "      <td>-1.500944</td>\n",
       "      <td>-0.322358</td>\n",
       "      <td>1</td>\n",
       "      <td>0</td>\n",
       "      <td>0</td>\n",
       "      <td>1</td>\n",
       "      <td>0</td>\n",
       "      <td>0</td>\n",
       "    </tr>\n",
       "  </tbody>\n",
       "</table>\n",
       "</div>"
      ],
      "text/plain": [
       "     culmen_length_mm  culmen_depth_mm  flipper_length_mm  body_mass_g  \\\n",
       "230         -0.567520        -1.761093           0.927425     0.548689   \n",
       "84          -1.227787         0.325462          -0.715295    -1.068970   \n",
       "303          1.101488        -0.641478           1.641651     1.419736   \n",
       "22          -1.484557         1.037945          -0.858141    -0.509011   \n",
       "29          -0.640883         0.885270          -1.500944    -0.322358   \n",
       "\n",
       "     species_Adelie  species_Chinstrap  species_Gentoo  island_Biscoe  \\\n",
       "230               0                  0               1              1   \n",
       "84                1                  0               0              0   \n",
       "303               0                  0               1              1   \n",
       "22                1                  0               0              1   \n",
       "29                1                  0               0              1   \n",
       "\n",
       "     island_Dream  island_Torgersen  \n",
       "230             0                 0  \n",
       "84              1                 0  \n",
       "303             0                 0  \n",
       "22              0                 0  \n",
       "29              0                 0  "
      ]
     },
     "execution_count": 92,
     "metadata": {},
     "output_type": "execute_result"
    }
   ],
   "source": [
    "print(len(X_train), len(y_train))\n",
    "print(len(X_test), len(y_test))\n",
    "X_train.head()"
   ]
  },
  {
   "cell_type": "markdown",
   "metadata": {},
   "source": [
    "## SVM"
   ]
  },
  {
   "cell_type": "code",
   "execution_count": 93,
   "metadata": {},
   "outputs": [
    {
     "name": "stdout",
     "output_type": "stream",
     "text": [
      "Accuracy: 0.8955223880597015\n",
      "Training Time: 0.0075836181640625 seconds\n",
      "Prediction Time: 0.0 seconds\n"
     ]
    }
   ],
   "source": [
    "svm_classifier = SVC(kernel='linear')\n",
    "\n",
    "svm_start_train_time = time.time()\n",
    "svm_classifier.fit(X_train, y_train)\n",
    "svm_end_train_time = time.time()\n",
    "svm_train_time = svm_end_train_time - svm_start_train_time\n",
    "\n",
    "svm_start_pred_time = time.time()\n",
    "y_pred = svm_classifier.predict(X_test)\n",
    "svm_end_pred_time = time.time()\n",
    "svm_pred_time = svm_end_pred_time - svm_start_pred_time\n",
    "\n",
    "\n",
    "svm_accuracy = accuracy_score(y_test, y_pred)\n",
    "print(\"Accuracy:\", svm_accuracy)\n",
    "print(\"Training Time:\", svm_train_time, \"seconds\")\n",
    "print(\"Prediction Time:\", svm_pred_time, \"seconds\")"
   ]
  },
  {
   "cell_type": "markdown",
   "metadata": {},
   "source": [
    "## KNN"
   ]
  },
  {
   "cell_type": "code",
   "execution_count": 94,
   "metadata": {},
   "outputs": [
    {
     "name": "stdout",
     "output_type": "stream",
     "text": [
      "1709468201.512091 1709468201.512091\n",
      "Accuracy: 0.8955223880597015\n",
      "Training Time: 0.0 seconds\n",
      "Prediction Time: 0.00856161117553711 seconds\n"
     ]
    }
   ],
   "source": [
    "knn_classifier = KNeighborsClassifier(n_neighbors=5)\n",
    "\n",
    "knn_start_train_time = time.time()\n",
    "knn_classifier.fit(X_train, y_train)\n",
    "knn_end_train_time = time.time()\n",
    "knn_train_time = knn_end_train_time - knn_start_train_time\n",
    "\n",
    "\n",
    "knn_start_pred_time = time.time()\n",
    "y_pred = knn_classifier.predict(X_test)\n",
    "knn_end_pred_time = time.time()\n",
    "knn_pred_time = knn_end_pred_time - knn_start_pred_time\n",
    "\n",
    "print(knn_end_train_time, knn_start_train_time)\n",
    "\n",
    "knn_accuracy = accuracy_score(y_test, y_pred)\n",
    "print(\"Accuracy:\", knn_accuracy)\n",
    "print(\"Training Time:\", knn_train_time, \"seconds\")\n",
    "print(\"Prediction Time:\", knn_pred_time, \"seconds\")"
   ]
  },
  {
   "cell_type": "markdown",
   "metadata": {},
   "source": [
    "## RF"
   ]
  },
  {
   "cell_type": "code",
   "execution_count": 95,
   "metadata": {},
   "outputs": [
    {
     "name": "stdout",
     "output_type": "stream",
     "text": [
      "Accuracy: 0.8208955223880597\n",
      "Training Time: 0.022591352462768555 seconds\n",
      "Prediction Time: 0.0 seconds\n"
     ]
    }
   ],
   "source": [
    "random_forest_classifier = RandomForestClassifier(n_estimators=10, random_state=42)\n",
    "\n",
    "rf_start_train_time = time.time()\n",
    "random_forest_classifier.fit(X_train, y_train)\n",
    "rf_end_train_time = time.time()\n",
    "rf_train_time = rf_end_train_time - rf_start_train_time\n",
    "\n",
    "rf_start_pred_time = time.time()\n",
    "y_pred = random_forest_classifier.predict(X_test)\n",
    "rf_end_pred_time = time.time()\n",
    "rf_pred_time = rf_end_pred_time - rf_start_pred_time\n",
    "\n",
    "rf_accuracy = accuracy_score(y_test, y_pred)\n",
    "print(\"Accuracy:\", rf_accuracy)\n",
    "print(\"Training Time:\", rf_train_time, \"seconds\")\n",
    "print(\"Prediction Time:\", rf_pred_time, \"seconds\")"
   ]
  },
  {
   "cell_type": "markdown",
   "metadata": {},
   "source": [
    "## NB"
   ]
  },
  {
   "cell_type": "code",
   "execution_count": 96,
   "metadata": {},
   "outputs": [
    {
     "name": "stdout",
     "output_type": "stream",
     "text": [
      "Accuracy: 0.6865671641791045\n",
      "Training Time: 0.0 seconds\n",
      "Prediction Time: 0.0 seconds\n"
     ]
    }
   ],
   "source": [
    "naive_bayes_classifier = GaussianNB()\n",
    "\n",
    "nb_start_train_time = time.time()\n",
    "naive_bayes_classifier.fit(X_train, y_train)\n",
    "nb_end_train_time = time.time()\n",
    "nb_train_time = nb_end_train_time - nb_start_train_time\n",
    "\n",
    "nb_start_pred_time = time.time()\n",
    "y_pred = naive_bayes_classifier.predict(X_test)\n",
    "nb_end_pred_time = time.time()\n",
    "nb_pred_time = nb_end_pred_time - nb_start_pred_time\n",
    "\n",
    "nb_accuracy = accuracy_score(y_test, y_pred)\n",
    "print(\"Accuracy:\", nb_accuracy)\n",
    "print(\"Training Time:\", nb_train_time, \"seconds\")\n",
    "print(\"Prediction Time:\", nb_pred_time, \"seconds\")\n"
   ]
  },
  {
   "cell_type": "markdown",
   "metadata": {},
   "source": [
    "## Visualization"
   ]
  },
  {
   "cell_type": "code",
   "execution_count": 97,
   "metadata": {},
   "outputs": [
    {
     "data": {
      "image/png": "[encoded data removed]",
      "text/plain": [
       "<Figure size 1000x600 with 1 Axes>"
      ]
     },
     "metadata": {},
     "output_type": "display_data"
    },
    {
     "data": {
      "image/png": "[encoded data removed]",
      "text/plain": [
       "<Figure size 1000x600 with 1 Axes>"
      ]
     },
     "metadata": {},
     "output_type": "display_data"
    },
    {
     "data": {
      "image/png": "[encoded data removed]",
      "text/plain": [
       "<Figure size 1000x600 with 1 Axes>"
      ]
     },
     "metadata": {},
     "output_type": "display_data"
    }
   ],
   "source": [
    "classifiers = [\"SVM\", \"KNN\", \"Random Forest\", \"Naive Bayes\"]\n",
    "train_times = [svm_train_time, knn_train_time, rf_train_time, nb_train_time]\n",
    "pred_times = [svm_pred_time, knn_pred_time, rf_pred_time, nb_pred_time]\n",
    "accuracies = [svm_accuracy, knn_accuracy, rf_accuracy, nb_accuracy]\n",
    "\n",
    "\n",
    "plt.figure(figsize=(10, 6))\n",
    "plt.bar(classifiers, train_times, color='b', alpha=0.7)\n",
    "plt.xlabel('Classifier')\n",
    "plt.ylabel('Training Time (seconds)')\n",
    "plt.title('Training Time of Different Classifiers')\n",
    "plt.show()\n",
    "\n",
    "\n",
    "plt.figure(figsize=(10, 6))\n",
    "plt.bar(classifiers, pred_times, color='g', alpha=0.7)\n",
    "plt.xlabel('Classifier')\n",
    "plt.ylabel('Prediction Time (seconds)')\n",
    "plt.title('Prediction Time of Different Classifiers')\n",
    "plt.show()\n",
    "\n",
    "plt.figure(figsize=(10, 6))\n",
    "plt.bar(classifiers, accuracies, color='r', alpha=0.7)\n",
    "plt.xlabel('Classifier')\n",
    "plt.ylabel('Accuracy')\n",
    "plt.title('Accuracy of Different Classifiers')\n",
    "plt.ylim(0, 1)\n",
    "plt.show()"
   ]
  }
 ],
 "metadata": {
  "kernelspec": {
   "display_name": "Python 3",
   "language": "python",
   "name": "python3"
  },
  "language_info": {
   "codemirror_mode": {
    "name": "ipython",
    "version": 3
   },
   "file_extension": ".py",
   "mimetype": "text/x-python",
   "name": "python",
   "nbconvert_exporter": "python",
   "pygments_lexer": "ipython3",
   "version": "3.10.0"
  }
 },
 "nbformat": 4,
 "nbformat_minor": 2
}
