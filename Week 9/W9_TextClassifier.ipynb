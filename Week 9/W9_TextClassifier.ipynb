{
  "cells": [
    {
      "cell_type": "markdown",
      "metadata": {
        "id": "EQdFOnsmiX4f"
      },
      "source": [
        "# Text Classification"
      ]
    },
    {
      "cell_type": "markdown",
      "metadata": {
        "id": "VxFTSjZaiX4h"
      },
      "source": [
        "### Import required libraries"
      ]
    },
    {
      "cell_type": "code",
      "execution_count": 33,
      "metadata": {
        "id": "7r2UZPSOiX4h"
      },
      "outputs": [],
      "source": [
        "import json\n",
        "import pandas as pd\n",
        "from sklearn.model_selection import train_test_split\n",
        "import re"
      ]
    },
    {
      "cell_type": "markdown",
      "source": [
        "### Read Dataset"
      ],
      "metadata": {
        "id": "TezogCaWtU1m"
      }
    },
    {
      "cell_type": "code",
      "execution_count": 34,
      "metadata": {
        "id": "M-k3_jJaiX4i"
      },
      "outputs": [],
      "source": [
        "with open('review_corpus_en.ndjson') as f:\n",
        "    data = [json.loads(line) for line in f]\n",
        "\n",
        "df = pd.DataFrame(data)\n",
        "df['text'] = df['title'] + ' ' + df['body']"
      ]
    },
    {
      "cell_type": "markdown",
      "source": [
        "### Pre-process Text"
      ],
      "metadata": {
        "id": "h21PW-LytWDl"
      }
    },
    {
      "cell_type": "code",
      "execution_count": 35,
      "metadata": {
        "id": "2HZxAHpMiX4i"
      },
      "outputs": [],
      "source": [
        "def preprocess_text(text):\n",
        "    text = text.lower()\n",
        "    text = re.sub(r'\\d+', '', text)\n",
        "    text = re.sub(r'\\s+', ' ', text)\n",
        "    text = re.sub(r'[^\\w\\s]', '', text)\n",
        "    return text\n",
        "\n",
        "df['title'] = df['title'].apply(preprocess_text)"
      ]
    },
    {
      "cell_type": "markdown",
      "source": [
        "### Map Labels"
      ],
      "metadata": {
        "id": "OGXxvZYrtZKl"
      }
    },
    {
      "cell_type": "code",
      "source": [
        "label_mapping = {'pos': 2, 'neg': 0, 'mixed': 1}\n",
        "df['rating'] = df['rating'].map(label_mapping)"
      ],
      "metadata": {
        "id": "K6kT-LPdjV0s"
      },
      "execution_count": 36,
      "outputs": []
    },
    {
      "cell_type": "markdown",
      "source": [
        "### Train Test Split"
      ],
      "metadata": {
        "id": "750XtA2ttaWV"
      }
    },
    {
      "cell_type": "code",
      "execution_count": 37,
      "metadata": {
        "id": "w1-gUz5LiX4i"
      },
      "outputs": [],
      "source": [
        "train_df, test_df = train_test_split(df, test_size=0.2, random_state=42)"
      ]
    },
    {
      "cell_type": "code",
      "source": [
        "train_df['rating'].unique()"
      ],
      "metadata": {
        "colab": {
          "base_uri": "https://localhost:8080/"
        },
        "id": "8vtM0mzEkawA",
        "outputId": "9b1c5507-6bee-41a4-a4e1-7769858a393a"
      },
      "execution_count": 38,
      "outputs": [
        {
          "output_type": "execute_result",
          "data": {
            "text/plain": [
              "array([2, 0, 1])"
            ]
          },
          "metadata": {},
          "execution_count": 38
        }
      ]
    },
    {
      "cell_type": "markdown",
      "source": [
        "### BERT Tokenizer"
      ],
      "metadata": {
        "id": "khEHLr2iteel"
      }
    },
    {
      "cell_type": "code",
      "execution_count": 39,
      "metadata": {
        "id": "KDf9tC5yiX4i"
      },
      "outputs": [],
      "source": [
        "from transformers import BertTokenizer\n",
        "import torch\n",
        "\n",
        "tokenizer = BertTokenizer.from_pretrained('bert-base-uncased')\n",
        "\n",
        "def tokenize_data(texts, labels, max_len=128):\n",
        "    input_ids = []\n",
        "    attention_masks = []\n",
        "\n",
        "    for text in texts:\n",
        "        encoded_data = tokenizer.encode_plus(\n",
        "            text,\n",
        "            add_special_tokens=True,\n",
        "            max_length=max_len,\n",
        "            padding='max_length',\n",
        "            return_attention_mask=True,\n",
        "            return_tensors='pt',\n",
        "            truncation=True\n",
        "        )\n",
        "        input_ids.append(encoded_data['input_ids'])\n",
        "        attention_masks.append(encoded_data['attention_mask'])\n",
        "\n",
        "    input_ids = torch.cat(input_ids, dim=0)\n",
        "    attention_masks = torch.cat(attention_masks, dim=0)\n",
        "    labels = torch.tensor(labels.values)\n",
        "\n",
        "    return input_ids, attention_masks, labels\n",
        "\n",
        "train_inputs, train_masks, train_labels = tokenize_data(train_df['text'], train_df['rating'])\n",
        "test_inputs, test_masks, test_labels = tokenize_data(test_df['text'], test_df['rating'])\n"
      ]
    },
    {
      "cell_type": "markdown",
      "source": [
        "### Create Dataset"
      ],
      "metadata": {
        "id": "GiVjzS3Etg3o"
      }
    },
    {
      "cell_type": "code",
      "execution_count": 40,
      "metadata": {
        "colab": {
          "base_uri": "https://localhost:8080/"
        },
        "id": "AXYXuN7DiX4j",
        "outputId": "250e9904-3af4-4628-cb2c-a6026ea2d1db"
      },
      "outputs": [
        {
          "output_type": "stream",
          "name": "stderr",
          "text": [
            "Some weights of BertForSequenceClassification were not initialized from the model checkpoint at bert-base-uncased and are newly initialized: ['classifier.bias', 'classifier.weight']\n",
            "You should probably TRAIN this model on a down-stream task to be able to use it for predictions and inference.\n",
            "/usr/local/lib/python3.10/dist-packages/transformers/optimization.py:521: FutureWarning: This implementation of AdamW is deprecated and will be removed in a future version. Use the PyTorch implementation torch.optim.AdamW instead, or set `no_deprecation_warning=True` to disable this warning\n",
            "  warnings.warn(\n"
          ]
        }
      ],
      "source": [
        "from transformers import BertForSequenceClassification, AdamW\n",
        "from torch.utils.data import DataLoader, TensorDataset, RandomSampler, SequentialSampler\n",
        "\n",
        "train_data = TensorDataset(train_inputs, train_masks, train_labels)\n",
        "train_sampler = RandomSampler(train_data)\n",
        "train_dataloader = DataLoader(train_data, sampler=train_sampler, batch_size=16)\n",
        "\n",
        "test_data = TensorDataset(test_inputs, test_masks, test_labels)\n",
        "test_sampler = SequentialSampler(test_data)\n",
        "test_dataloader = DataLoader(test_data, sampler=test_sampler, batch_size=16)\n",
        "\n",
        "model = BertForSequenceClassification.from_pretrained(\n",
        "    'bert-base-uncased',\n",
        "    num_labels=3,\n",
        "    output_attentions=False,\n",
        "    output_hidden_states=False\n",
        ")\n",
        "\n",
        "optimizer = AdamW(model.parameters(), lr=2e-5, eps=1e-8)"
      ]
    },
    {
      "cell_type": "markdown",
      "source": [
        "### Train Model"
      ],
      "metadata": {
        "id": "SvQjuXVmtjes"
      }
    },
    {
      "cell_type": "code",
      "source": [
        "epochs = 5\n",
        "device = torch.device('cuda') if torch.cuda.is_available() else torch.device('cpu')\n",
        "model.to(device)\n",
        "\n",
        "for epoch in range(epochs):\n",
        "    print(f'Epoch {epoch + 1}/{epochs}')\n",
        "    model.train()\n",
        "\n",
        "    total_loss = 0\n",
        "\n",
        "    for step, batch in enumerate(train_dataloader):\n",
        "        batch_inputs, batch_masks, batch_labels = tuple(t.to(device) for t in batch)\n",
        "\n",
        "        model.zero_grad()\n",
        "\n",
        "        outputs = model(\n",
        "            batch_inputs,\n",
        "            token_type_ids=None,\n",
        "            attention_mask=batch_masks,\n",
        "            labels=batch_labels\n",
        "        )\n",
        "\n",
        "        loss = outputs.loss\n",
        "        total_loss += loss.item()\n",
        "\n",
        "        loss.backward()\n",
        "\n",
        "        torch.nn.utils.clip_grad_norm_(model.parameters(), 1.0)\n",
        "\n",
        "        optimizer.step()\n",
        "\n",
        "    avg_train_loss = total_loss / len(train_dataloader)\n",
        "    print(f'Training loss: {avg_train_loss}')\n",
        "\n",
        "model.save_pretrained('fine_tuned_bert')\n",
        "tokenizer.save_pretrained('fine_tuned_bert')"
      ],
      "metadata": {
        "colab": {
          "base_uri": "https://localhost:8080/"
        },
        "id": "RjHY1ynejzHo",
        "outputId": "9734c3f2-f534-4285-b614-2ccb93761083"
      },
      "execution_count": 41,
      "outputs": [
        {
          "output_type": "stream",
          "name": "stdout",
          "text": [
            "Epoch 1/6\n",
            "Training loss: 0.8760951910416285\n",
            "Epoch 2/6\n",
            "Training loss: 0.5403571060299873\n",
            "Epoch 3/6\n",
            "Training loss: 0.3672856810192267\n",
            "Epoch 4/6\n",
            "Training loss: 0.20229494579136373\n",
            "Epoch 5/6\n",
            "Training loss: 0.12741058899089694\n",
            "Epoch 6/6\n",
            "Training loss: 0.08605067290831357\n"
          ]
        },
        {
          "output_type": "execute_result",
          "data": {
            "text/plain": [
              "('fine_tuned_bert/tokenizer_config.json',\n",
              " 'fine_tuned_bert/special_tokens_map.json',\n",
              " 'fine_tuned_bert/vocab.txt',\n",
              " 'fine_tuned_bert/added_tokens.json')"
            ]
          },
          "metadata": {},
          "execution_count": 41
        }
      ]
    },
    {
      "cell_type": "markdown",
      "source": [
        "### Evaluate Model"
      ],
      "metadata": {
        "id": "fr-8-7emtlUK"
      }
    },
    {
      "cell_type": "code",
      "source": [
        "from sklearn.metrics import classification_report\n",
        "import numpy as np\n",
        "\n",
        "model.eval()\n",
        "\n",
        "predictions, true_labels = [], []\n",
        "\n",
        "for batch in test_dataloader:\n",
        "    batch_inputs, batch_masks, batch_labels = tuple(t.to(device) for t in batch)\n",
        "\n",
        "    with torch.no_grad():\n",
        "        outputs = model(\n",
        "            batch_inputs,\n",
        "            token_type_ids=None,\n",
        "            attention_mask=batch_masks\n",
        "        )\n",
        "\n",
        "    logits = outputs.logits\n",
        "    logits = logits.detach().cpu().numpy()\n",
        "    label_ids = batch_labels.to('cpu').numpy()\n",
        "\n",
        "    predictions.append(logits)\n",
        "    true_labels.append(label_ids)\n",
        "\n",
        "flat_predictions = [item for sublist in predictions for item in sublist]\n",
        "flat_true_labels = [item for sublist in true_labels for item in sublist]\n",
        "\n",
        "flat_predictions = np.argmax(flat_predictions, axis=1)\n",
        "\n",
        "print(classification_report(flat_true_labels, flat_predictions, target_names=['neg', 'mixed', 'pos']))"
      ],
      "metadata": {
        "id": "aQXaMQOuj17P",
        "colab": {
          "base_uri": "https://localhost:8080/"
        },
        "outputId": "836a17d0-c3ff-43dd-fedf-9d5b8b1c132b"
      },
      "execution_count": 42,
      "outputs": [
        {
          "output_type": "stream",
          "name": "stdout",
          "text": [
            "              precision    recall  f1-score   support\n",
            "\n",
            "         neg       0.76      0.73      0.74       197\n",
            "       mixed       0.61      0.64      0.63       186\n",
            "         pos       0.86      0.85      0.85       217\n",
            "\n",
            "    accuracy                           0.75       600\n",
            "   macro avg       0.74      0.74      0.74       600\n",
            "weighted avg       0.75      0.75      0.75       600\n",
            "\n"
          ]
        }
      ]
    },
    {
      "cell_type": "markdown",
      "source": [
        "### Model Loss"
      ],
      "metadata": {
        "id": "skgu7L0SwL3U"
      }
    },
    {
      "cell_type": "code",
      "source": [
        "outputs = model(\n",
        "            batch_inputs,\n",
        "            token_type_ids=None,\n",
        "            attention_mask=batch_masks,\n",
        "            labels=batch_labels\n",
        "        )\n",
        "\n",
        "loss = outputs.loss\n",
        "print(loss)"
      ],
      "metadata": {
        "colab": {
          "base_uri": "https://localhost:8080/"
        },
        "id": "MCozUtrQvmKr",
        "outputId": "74ffac5d-42b6-4413-ba2e-497c8954da50"
      },
      "execution_count": 44,
      "outputs": [
        {
          "output_type": "stream",
          "name": "stdout",
          "text": [
            "tensor(1.5041, device='cuda:0', grad_fn=<NllLossBackward0>)\n"
          ]
        }
      ]
    },
    {
      "cell_type": "code",
      "source": [],
      "metadata": {
        "id": "60hMMdT3vn7e"
      },
      "execution_count": null,
      "outputs": []
    }
  ],
  "metadata": {
    "kernelspec": {
      "display_name": "Python 3",
      "name": "python3"
    },
    "language_info": {
      "codemirror_mode": {
        "name": "ipython",
        "version": 3
      },
      "file_extension": ".py",
      "mimetype": "text/x-python",
      "name": "python",
      "nbconvert_exporter": "python",
      "pygments_lexer": "ipython3",
      "version": "3.10.0"
    },
    "colab": {
      "provenance": [],
      "gpuType": "T4"
    },
    "accelerator": "GPU"
  },
  "nbformat": 4,
  "nbformat_minor": 0
}