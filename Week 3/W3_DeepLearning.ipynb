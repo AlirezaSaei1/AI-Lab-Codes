{
 "cells": [
  {
   "cell_type": "markdown",
   "metadata": {},
   "source": [
    "## Deep Learning with Pytorch\n",
    "Why not numpy? \n",
    "- Torch handles CUDA so you can use GPU, but numpy does not use GPU\n",
    "- No need for back propagaion with pytorch, back propagaion with numpy can be challenging (in Transformers, etc.)\n",
    "\n",
    "Back propagation is the learning algorithm for a NN -> uses gradient descent (Optimization)\n",
    "\n",
    "Chain Rule: Reaching from Output to Model Parameters"
   ]
  },
  {
   "cell_type": "markdown",
   "metadata": {},
   "source": [
    "### Required Libraries"
   ]
  },
  {
   "cell_type": "code",
   "execution_count": 1,
   "metadata": {},
   "outputs": [],
   "source": [
    "import torch\n",
    "from torch import nn\n",
    "from torch.utils.data import DataLoader, Dataset\n",
    "from torchvision import datasets\n"
   ]
  },
  {
   "cell_type": "markdown",
   "metadata": {},
   "source": [
    "### Import Dataset\n",
    "\n",
    "Datasets in Pytorch are:\n",
    " 1. Iterable Style -> for data streaming\n",
    " 2. Map Style -> it is not for streaming\n",
    "\n",
    "Tensor: Arrays that can have higher dimensions"
   ]
  },
  {
   "cell_type": "code",
   "execution_count": null,
   "metadata": {},
   "outputs": [],
   "source": []
  },
  {
   "cell_type": "markdown",
   "metadata": {},
   "source": [
    "Link: https://pytorch.org/tutorials/beginner/basics/"
   ]
  }
 ],
 "metadata": {
  "kernelspec": {
   "display_name": "Python 3",
   "language": "python",
   "name": "python3"
  },
  "language_info": {
   "codemirror_mode": {
    "name": "ipython",
    "version": 3
   },
   "file_extension": ".py",
   "mimetype": "text/x-python",
   "name": "python",
   "nbconvert_exporter": "python",
   "pygments_lexer": "ipython3",
   "version": "3.10.0"
  }
 },
 "nbformat": 4,
 "nbformat_minor": 2
}
